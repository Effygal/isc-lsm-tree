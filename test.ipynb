{
 "cells": [
  {
   "cell_type": "code",
   "execution_count": 4,
   "metadata": {},
   "outputs": [],
   "source": [
    "import misc\n",
    "p_trace = misc.p_trace(1000000)\n"
   ]
  },
  {
   "cell_type": "code",
   "execution_count": 2,
   "metadata": {},
   "outputs": [],
   "source": [
    "\n",
    "import misc\n",
    "p_hyper_exponential_trace= misc.hyper_exponential_p_trace(1000000)"
   ]
  },
  {
   "cell_type": "code",
   "execution_count": 3,
   "metadata": {},
   "outputs": [
    {
     "data": {
      "text/plain": [
       "8697456"
      ]
     },
     "execution_count": 3,
     "metadata": {},
     "output_type": "execute_result"
    }
   ],
   "source": [
    "import sys\n",
    "size = sys.getsizeof(p_hyper_exponential_trace)\n",
    "size"
   ]
  },
  {
   "cell_type": "code",
   "execution_count": 6,
   "metadata": {},
   "outputs": [],
   "source": [
    "with open(\"lsm/traces/p_hyper_exponential_trace.txt\", \"w\") as file:\n",
    "    for item in p_hyper_exponential_trace:\n",
    "        file.write(\"%s\\n\" % item)\n"
   ]
  },
  {
   "cell_type": "code",
   "execution_count": 7,
   "metadata": {},
   "outputs": [],
   "source": [
    "g_trace = []\n",
    "with open('lsm/traces/p_hyper_exponential_trace.txt') as txt_file:\n",
    "    for line in txt_file:\n",
    "        values = line.strip().split()   # split values on whitespace (default delimiter)\n",
    "        item = 'g '+ str(values[1])\n",
    "        g_trace.append(item)     # print first two values\n",
    "with open(\"lsm/traces/g_hyper_exponential_trace.txt.txt\", \"w\") as file2:\n",
    "    for item in g_trace:\n",
    "        file2.write(\"%s\\n\" % item)"
   ]
  },
  {
   "cell_type": "code",
   "execution_count": null,
   "metadata": {},
   "outputs": [],
   "source": []
  }
 ],
 "metadata": {
  "kernelspec": {
   "display_name": "Python 3",
   "language": "python",
   "name": "python3"
  },
  "language_info": {
   "codemirror_mode": {
    "name": "ipython",
    "version": 3
   },
   "file_extension": ".py",
   "mimetype": "text/x-python",
   "name": "python",
   "nbconvert_exporter": "python",
   "pygments_lexer": "ipython3",
   "version": "3.8.9"
  },
  "orig_nbformat": 4
 },
 "nbformat": 4,
 "nbformat_minor": 2
}
