{
 "cells": [
  {
   "cell_type": "code",
   "execution_count": 2,
   "metadata": {},
   "outputs": [
    {
     "ename": "KeyboardInterrupt",
     "evalue": "",
     "output_type": "error",
     "traceback": [
      "\u001b[0;31m---------------------------------------------------------------------------\u001b[0m",
      "\u001b[0;31mKeyboardInterrupt\u001b[0m                         Traceback (most recent call last)",
      "Cell \u001b[0;32mIn[2], line 8\u001b[0m\n\u001b[1;32m      4\u001b[0m trace_line \u001b[39m=\u001b[39m line\u001b[39m.\u001b[39mrstrip()  \u001b[39m# Remove trailing newline\u001b[39;00m\n\u001b[1;32m      6\u001b[0m \u001b[39m# trace_line = \"1219008 REST.PUT.OBJECT 8d4fcda3d675bac9 1056\"\u001b[39;00m\n\u001b[0;32m----> 8\u001b[0m fields \u001b[39m=\u001b[39m trace_line\u001b[39m.\u001b[39;49msplit(\u001b[39m\"\u001b[39;49m\u001b[39m \u001b[39;49m\u001b[39m\"\u001b[39;49m)\n\u001b[1;32m      9\u001b[0m \u001b[39m# Extract the relevant information\u001b[39;00m\n\u001b[1;32m     10\u001b[0m key \u001b[39m=\u001b[39m fields[\u001b[39m2\u001b[39m]\n",
      "\u001b[0;31mKeyboardInterrupt\u001b[0m: "
     ]
    }
   ],
   "source": [
    "with open('../traces/IBMObjectStoreTrace000Part0', 'r') as file:\n",
    "    with open(\"realistic_trace.txt\", \"a\") as outputfile:  # Use \"a\" mode to append to the output file\n",
    "        for line in file:\n",
    "            trace_line = line.rstrip()  # Remove trailing newline\n",
    "\n",
    "            # trace_line = \"1219008 REST.PUT.OBJECT 8d4fcda3d675bac9 1056\"\n",
    "\n",
    "            fields = trace_line.split(\" \")\n",
    "            # Extract the relevant information\n",
    "            key = fields[2]\n",
    "            \n",
    "            try:\n",
    "                value = fields[3]\n",
    "            except:\n",
    "                value = ''\n",
    "\n",
    "\n",
    "            operation = fields[1]\n",
    "            \n",
    "            if operation == \"REST.PUT.OBJECT\":\n",
    "                identifier = 'p'\n",
    "                output = f\"{identifier} {key} {value} \\n\"\n",
    "                \n",
    "            elif operation == \"REST.GET.OBJECT\" or operation == \"REST.HEAD.OBJECT\":  # Use elif instead of if for multiple conditions\n",
    "                identifier = 'g'\n",
    "                output = f\"{identifier} {key} \\n\"\n",
    "              \n",
    "            \n",
    "            # append output to the output file\n",
    "            outputfile.write(output)\n",
    "\n"
   ]
  },
  {
   "cell_type": "code",
   "execution_count": 1,
   "metadata": {},
   "outputs": [
    {
     "data": {
      "text/html": [
       "<style>\n",
       "        .bk-notebook-logo {\n",
       "            display: block;\n",
       "            width: 20px;\n",
       "            height: 20px;\n",
       "            background-image: url(data:image/png;base64,iVBORw0KGgoAAAANSUhEUgAAABQAAAAUCAYAAACNiR0NAAAABHNCSVQICAgIfAhkiAAAAAlwSFlzAAALEgAACxIB0t1+/AAAABx0RVh0U29mdHdhcmUAQWRvYmUgRmlyZXdvcmtzIENTNui8sowAAAOkSURBVDiNjZRtaJVlGMd/1/08zzln5zjP1LWcU9N0NkN8m2CYjpgQYQXqSs0I84OLIC0hkEKoPtiH3gmKoiJDU7QpLgoLjLIQCpEsNJ1vqUOdO7ppbuec5+V+rj4ctwzd8IIbbi6u+8f1539dt3A78eXC7QizUF7gyV1fD1Yqg4JWz84yffhm0qkFqBogB9rM8tZdtwVsPUhWhGcFJngGeWrPzHm5oaMmkfEg1usvLFyc8jLRqDOMru7AyC8saQr7GG7f5fvDeH7Ej8CM66nIF+8yngt6HWaKh7k49Soy9nXurCi1o3qUbS3zWfrYeQDTB/Qj6kX6Ybhw4B+bOYoLKCC9H3Nu/leUTZ1JdRWkkn2ldcCamzrcf47KKXdAJllSlxAOkRgyHsGC/zRday5Qld9DyoM4/q/rUoy/CXh3jzOu3bHUVZeU+DEn8FInkPBFlu3+nW3Nw0mk6vCDiWg8CeJaxEwuHS3+z5RgY+YBR6V1Z1nxSOfoaPa4LASWxxdNp+VWTk7+4vzaou8v8PN+xo+KY2xsw6une2frhw05CTYOmQvsEhjhWjn0bmXPjpE1+kplmmkP3suftwTubK9Vq22qKmrBhpY4jvd5afdRA3wGjFAgcnTK2s4hY0/GPNIb0nErGMCRxWOOX64Z8RAC4oCXdklmEvcL8o0BfkNK4lUg9HTl+oPlQxdNo3Mg4Nv175e/1LDGzZen30MEjRUtmXSfiTVu1kK8W4txyV6BMKlbgk3lMwYCiusNy9fVfvvwMxv8Ynl6vxoByANLTWplvuj/nF9m2+PDtt1eiHPBr1oIfhCChQMBw6Aw0UulqTKZdfVvfG7VcfIqLG9bcldL/+pdWTLxLUy8Qq38heUIjh4XlzZxzQm19lLFlr8vdQ97rjZVOLf8nclzckbcD4wxXMidpX30sFd37Fv/GtwwhzhxGVAprjbg0gCAEeIgwCZyTV2Z1REEW8O4py0wsjeloKoMr6iCY6dP92H6Vw/oTyICIthibxjm/DfN9lVz8IqtqKYLUXfoKVMVQVVJOElGjrnnUt9T9wbgp8AyYKaGlqingHZU/uG2NTZSVqwHQTWkx9hxjkpWDaCg6Ckj5qebgBVbT3V3NNXMSiWSDdGV3hrtzla7J+duwPOToIg42ChPQOQjspnSlp1V+Gjdged7+8UN5CRAV7a5EdFNwCjEaBR27b3W890TE7g24NAP/mMDXRWrGoFPQI9ls/MWO2dWFAar/xcOIImbbpA3zgAAAABJRU5ErkJggg==);\n",
       "        }\n",
       "    </style>\n",
       "    <div>\n",
       "        <a href=\"https://bokeh.org\" target=\"_blank\" class=\"bk-notebook-logo\"></a>\n",
       "        <span id=\"p1001\">Loading BokehJS ...</span>\n",
       "    </div>\n"
      ]
     },
     "metadata": {},
     "output_type": "display_data"
    },
    {
     "data": {
      "application/javascript": "(function(root) {\n  function now() {\n    return new Date();\n  }\n\n  const force = true;\n\n  if (typeof root._bokeh_onload_callbacks === \"undefined\" || force === true) {\n    root._bokeh_onload_callbacks = [];\n    root._bokeh_is_loading = undefined;\n  }\n\nconst JS_MIME_TYPE = 'application/javascript';\n  const HTML_MIME_TYPE = 'text/html';\n  const EXEC_MIME_TYPE = 'application/vnd.bokehjs_exec.v0+json';\n  const CLASS_NAME = 'output_bokeh rendered_html';\n\n  /**\n   * Render data to the DOM node\n   */\n  function render(props, node) {\n    const script = document.createElement(\"script\");\n    node.appendChild(script);\n  }\n\n  /**\n   * Handle when an output is cleared or removed\n   */\n  function handleClearOutput(event, handle) {\n    const cell = handle.cell;\n\n    const id = cell.output_area._bokeh_element_id;\n    const server_id = cell.output_area._bokeh_server_id;\n    // Clean up Bokeh references\n    if (id != null && id in Bokeh.index) {\n      Bokeh.index[id].model.document.clear();\n      delete Bokeh.index[id];\n    }\n\n    if (server_id !== undefined) {\n      // Clean up Bokeh references\n      const cmd_clean = \"from bokeh.io.state import curstate; print(curstate().uuid_to_server['\" + server_id + \"'].get_sessions()[0].document.roots[0]._id)\";\n      cell.notebook.kernel.execute(cmd_clean, {\n        iopub: {\n          output: function(msg) {\n            const id = msg.content.text.trim();\n            if (id in Bokeh.index) {\n              Bokeh.index[id].model.document.clear();\n              delete Bokeh.index[id];\n            }\n          }\n        }\n      });\n      // Destroy server and session\n      const cmd_destroy = \"import bokeh.io.notebook as ion; ion.destroy_server('\" + server_id + \"')\";\n      cell.notebook.kernel.execute(cmd_destroy);\n    }\n  }\n\n  /**\n   * Handle when a new output is added\n   */\n  function handleAddOutput(event, handle) {\n    const output_area = handle.output_area;\n    const output = handle.output;\n\n    // limit handleAddOutput to display_data with EXEC_MIME_TYPE content only\n    if ((output.output_type != \"display_data\") || (!Object.prototype.hasOwnProperty.call(output.data, EXEC_MIME_TYPE))) {\n      return\n    }\n\n    const toinsert = output_area.element.find(\".\" + CLASS_NAME.split(' ')[0]);\n\n    if (output.metadata[EXEC_MIME_TYPE][\"id\"] !== undefined) {\n      toinsert[toinsert.length - 1].firstChild.textContent = output.data[JS_MIME_TYPE];\n      // store reference to embed id on output_area\n      output_area._bokeh_element_id = output.metadata[EXEC_MIME_TYPE][\"id\"];\n    }\n    if (output.metadata[EXEC_MIME_TYPE][\"server_id\"] !== undefined) {\n      const bk_div = document.createElement(\"div\");\n      bk_div.innerHTML = output.data[HTML_MIME_TYPE];\n      const script_attrs = bk_div.children[0].attributes;\n      for (let i = 0; i < script_attrs.length; i++) {\n        toinsert[toinsert.length - 1].firstChild.setAttribute(script_attrs[i].name, script_attrs[i].value);\n        toinsert[toinsert.length - 1].firstChild.textContent = bk_div.children[0].textContent\n      }\n      // store reference to server id on output_area\n      output_area._bokeh_server_id = output.metadata[EXEC_MIME_TYPE][\"server_id\"];\n    }\n  }\n\n  function register_renderer(events, OutputArea) {\n\n    function append_mime(data, metadata, element) {\n      // create a DOM node to render to\n      const toinsert = this.create_output_subarea(\n        metadata,\n        CLASS_NAME,\n        EXEC_MIME_TYPE\n      );\n      this.keyboard_manager.register_events(toinsert);\n      // Render to node\n      const props = {data: data, metadata: metadata[EXEC_MIME_TYPE]};\n      render(props, toinsert[toinsert.length - 1]);\n      element.append(toinsert);\n      return toinsert\n    }\n\n    /* Handle when an output is cleared or removed */\n    events.on('clear_output.CodeCell', handleClearOutput);\n    events.on('delete.Cell', handleClearOutput);\n\n    /* Handle when a new output is added */\n    events.on('output_added.OutputArea', handleAddOutput);\n\n    /**\n     * Register the mime type and append_mime function with output_area\n     */\n    OutputArea.prototype.register_mime_type(EXEC_MIME_TYPE, append_mime, {\n      /* Is output safe? */\n      safe: true,\n      /* Index of renderer in `output_area.display_order` */\n      index: 0\n    });\n  }\n\n  // register the mime type if in Jupyter Notebook environment and previously unregistered\n  if (root.Jupyter !== undefined) {\n    const events = require('base/js/events');\n    const OutputArea = require('notebook/js/outputarea').OutputArea;\n\n    if (OutputArea.prototype.mime_types().indexOf(EXEC_MIME_TYPE) == -1) {\n      register_renderer(events, OutputArea);\n    }\n  }\n  if (typeof (root._bokeh_timeout) === \"undefined\" || force === true) {\n    root._bokeh_timeout = Date.now() + 5000;\n    root._bokeh_failed_load = false;\n  }\n\n  const NB_LOAD_WARNING = {'data': {'text/html':\n     \"<div style='background-color: #fdd'>\\n\"+\n     \"<p>\\n\"+\n     \"BokehJS does not appear to have successfully loaded. If loading BokehJS from CDN, this \\n\"+\n     \"may be due to a slow or bad network connection. Possible fixes:\\n\"+\n     \"</p>\\n\"+\n     \"<ul>\\n\"+\n     \"<li>re-rerun `output_notebook()` to attempt to load from CDN again, or</li>\\n\"+\n     \"<li>use INLINE resources instead, as so:</li>\\n\"+\n     \"</ul>\\n\"+\n     \"<code>\\n\"+\n     \"from bokeh.resources import INLINE\\n\"+\n     \"output_notebook(resources=INLINE)\\n\"+\n     \"</code>\\n\"+\n     \"</div>\"}};\n\n  function display_loaded() {\n    const el = document.getElementById(\"p1001\");\n    if (el != null) {\n      el.textContent = \"BokehJS is loading...\";\n    }\n    if (root.Bokeh !== undefined) {\n      if (el != null) {\n        el.textContent = \"BokehJS \" + root.Bokeh.version + \" successfully loaded.\";\n      }\n    } else if (Date.now() < root._bokeh_timeout) {\n      setTimeout(display_loaded, 100)\n    }\n  }\n\n  function run_callbacks() {\n    try {\n      root._bokeh_onload_callbacks.forEach(function(callback) {\n        if (callback != null)\n          callback();\n      });\n    } finally {\n      delete root._bokeh_onload_callbacks\n    }\n    console.debug(\"Bokeh: all callbacks have finished\");\n  }\n\n  function load_libs(css_urls, js_urls, callback) {\n    if (css_urls == null) css_urls = [];\n    if (js_urls == null) js_urls = [];\n\n    root._bokeh_onload_callbacks.push(callback);\n    if (root._bokeh_is_loading > 0) {\n      console.debug(\"Bokeh: BokehJS is being loaded, scheduling callback at\", now());\n      return null;\n    }\n    if (js_urls == null || js_urls.length === 0) {\n      run_callbacks();\n      return null;\n    }\n    console.debug(\"Bokeh: BokehJS not loaded, scheduling load and callback at\", now());\n    root._bokeh_is_loading = css_urls.length + js_urls.length;\n\n    function on_load() {\n      root._bokeh_is_loading--;\n      if (root._bokeh_is_loading === 0) {\n        console.debug(\"Bokeh: all BokehJS libraries/stylesheets loaded\");\n        run_callbacks()\n      }\n    }\n\n    function on_error(url) {\n      console.error(\"failed to load \" + url);\n    }\n\n    for (let i = 0; i < css_urls.length; i++) {\n      const url = css_urls[i];\n      const element = document.createElement(\"link\");\n      element.onload = on_load;\n      element.onerror = on_error.bind(null, url);\n      element.rel = \"stylesheet\";\n      element.type = \"text/css\";\n      element.href = url;\n      console.debug(\"Bokeh: injecting link tag for BokehJS stylesheet: \", url);\n      document.body.appendChild(element);\n    }\n\n    for (let i = 0; i < js_urls.length; i++) {\n      const url = js_urls[i];\n      const element = document.createElement('script');\n      element.onload = on_load;\n      element.onerror = on_error.bind(null, url);\n      element.async = false;\n      element.src = url;\n      console.debug(\"Bokeh: injecting script tag for BokehJS library: \", url);\n      document.head.appendChild(element);\n    }\n  };\n\n  function inject_raw_css(css) {\n    const element = document.createElement(\"style\");\n    element.appendChild(document.createTextNode(css));\n    document.body.appendChild(element);\n  }\n\n  const js_urls = [\"https://cdn.bokeh.org/bokeh/release/bokeh-3.1.0.min.js\", \"https://cdn.bokeh.org/bokeh/release/bokeh-gl-3.1.0.min.js\", \"https://cdn.bokeh.org/bokeh/release/bokeh-widgets-3.1.0.min.js\", \"https://cdn.bokeh.org/bokeh/release/bokeh-tables-3.1.0.min.js\", \"https://cdn.bokeh.org/bokeh/release/bokeh-mathjax-3.1.0.min.js\"];\n  const css_urls = [];\n\n  const inline_js = [    function(Bokeh) {\n      Bokeh.set_log_level(\"info\");\n    },\nfunction(Bokeh) {\n    }\n  ];\n\n  function run_inline_js() {\n    if (root.Bokeh !== undefined || force === true) {\n          for (let i = 0; i < inline_js.length; i++) {\n      inline_js[i].call(root, root.Bokeh);\n    }\nif (force === true) {\n        display_loaded();\n      }} else if (Date.now() < root._bokeh_timeout) {\n      setTimeout(run_inline_js, 100);\n    } else if (!root._bokeh_failed_load) {\n      console.log(\"Bokeh: BokehJS failed to load within specified timeout.\");\n      root._bokeh_failed_load = true;\n    } else if (force !== true) {\n      const cell = $(document.getElementById(\"p1001\")).parents('.cell').data().cell;\n      cell.output_area.append_execute_result(NB_LOAD_WARNING)\n    }\n  }\n\n  if (root._bokeh_is_loading === 0) {\n    console.debug(\"Bokeh: BokehJS loaded, going straight to plotting\");\n    run_inline_js();\n  } else {\n    load_libs(css_urls, js_urls, function() {\n      console.debug(\"Bokeh: BokehJS plotting callback run at\", now());\n      run_inline_js();\n    });\n  }\n}(window));",
      "application/vnd.bokehjs_load.v0+json": ""
     },
     "metadata": {},
     "output_type": "display_data"
    }
   ],
   "source": [
    "from bokeh.io import output_notebook\n",
    "from bokeh.models import ColumnDataSource, FactorRange\n",
    "from bokeh.plotting import figure, show\n",
    "import numpy as np\n",
    "from bokeh.io import export_png\n",
    "from bokeh.models import NumeralTickFormatter\n",
    "output_notebook()\n"
   ]
  },
  {
   "cell_type": "code",
   "execution_count": 2,
   "metadata": {},
   "outputs": [
    {
     "data": {
      "text/html": [
       "\n",
       "  <div id=\"8f10bb48-640d-4741-a49f-8e5a0727a6a8\" data-root-id=\"p1002\" style=\"display: contents;\"></div>\n"
      ]
     },
     "metadata": {},
     "output_type": "display_data"
    },
    {
     "data": {
      "application/javascript": "(function(root) {\n  function embed_document(root) {\n  const docs_json = {\"ff7bc4fb-2a01-4086-a393-4411abd01dc1\":{\"version\":\"3.1.0\",\"title\":\"Bokeh Application\",\"defs\":[],\"roots\":[{\"type\":\"object\",\"name\":\"Figure\",\"id\":\"p1002\",\"attributes\":{\"height\":350,\"x_range\":{\"type\":\"object\",\"name\":\"FactorRange\",\"id\":\"p1012\",\"attributes\":{\"factors\":[\"LSM\",\"LSM2\"]}},\"y_range\":{\"type\":\"object\",\"name\":\"DataRange1d\",\"id\":\"p1004\",\"attributes\":{\"start\":0}},\"x_scale\":{\"type\":\"object\",\"name\":\"CategoricalScale\",\"id\":\"p1016\"},\"y_scale\":{\"type\":\"object\",\"name\":\"LogScale\",\"id\":\"p1018\"},\"title\":{\"type\":\"object\",\"name\":\"Title\",\"id\":\"p1005\",\"attributes\":{\"text\":\"Throughput by implementations\"}},\"renderers\":[{\"type\":\"object\",\"name\":\"GlyphRenderer\",\"id\":\"p1054\",\"attributes\":{\"data_source\":{\"type\":\"object\",\"name\":\"ColumnDataSource\",\"id\":\"p1048\",\"attributes\":{\"selected\":{\"type\":\"object\",\"name\":\"Selection\",\"id\":\"p1049\",\"attributes\":{\"indices\":[],\"line_indices\":[]}},\"selection_policy\":{\"type\":\"object\",\"name\":\"UnionRenderers\",\"id\":\"p1050\"},\"data\":{\"type\":\"map\",\"entries\":[[\"x\",[\"LSM\",\"LSM2\"]],[\"top\",[5.85,0.13]]]}}},\"view\":{\"type\":\"object\",\"name\":\"CDSView\",\"id\":\"p1055\",\"attributes\":{\"filter\":{\"type\":\"object\",\"name\":\"AllIndices\",\"id\":\"p1056\"}}},\"glyph\":{\"type\":\"object\",\"name\":\"VBar\",\"id\":\"p1051\",\"attributes\":{\"x\":{\"type\":\"field\",\"field\":\"x\"},\"width\":{\"type\":\"value\",\"value\":0.7},\"bottom\":{\"type\":\"value\",\"value\":0.01},\"top\":{\"type\":\"field\",\"field\":\"top\"},\"line_color\":{\"type\":\"value\",\"value\":\"#c9d9d3\"},\"fill_color\":{\"type\":\"value\",\"value\":\"#c9d9d3\"},\"hatch_color\":{\"type\":\"value\",\"value\":\"#c9d9d3\"}}},\"nonselection_glyph\":{\"type\":\"object\",\"name\":\"VBar\",\"id\":\"p1052\",\"attributes\":{\"x\":{\"type\":\"field\",\"field\":\"x\"},\"width\":{\"type\":\"value\",\"value\":0.7},\"bottom\":{\"type\":\"value\",\"value\":0.01},\"top\":{\"type\":\"field\",\"field\":\"top\"},\"line_color\":{\"type\":\"value\",\"value\":\"#c9d9d3\"},\"line_alpha\":{\"type\":\"value\",\"value\":0.1},\"fill_color\":{\"type\":\"value\",\"value\":\"#c9d9d3\"},\"fill_alpha\":{\"type\":\"value\",\"value\":0.1},\"hatch_color\":{\"type\":\"value\",\"value\":\"#c9d9d3\"},\"hatch_alpha\":{\"type\":\"value\",\"value\":0.1}}},\"muted_glyph\":{\"type\":\"object\",\"name\":\"VBar\",\"id\":\"p1053\",\"attributes\":{\"x\":{\"type\":\"field\",\"field\":\"x\"},\"width\":{\"type\":\"value\",\"value\":0.7},\"bottom\":{\"type\":\"value\",\"value\":0.01},\"top\":{\"type\":\"field\",\"field\":\"top\"},\"line_color\":{\"type\":\"value\",\"value\":\"#c9d9d3\"},\"line_alpha\":{\"type\":\"value\",\"value\":0.2},\"fill_color\":{\"type\":\"value\",\"value\":\"#c9d9d3\"},\"fill_alpha\":{\"type\":\"value\",\"value\":0.2},\"hatch_color\":{\"type\":\"value\",\"value\":\"#c9d9d3\"},\"hatch_alpha\":{\"type\":\"value\",\"value\":0.2}}}}}],\"toolbar\":{\"type\":\"object\",\"name\":\"Toolbar\",\"id\":\"p1007\",\"attributes\":{\"tools\":[{\"type\":\"object\",\"name\":\"PanTool\",\"id\":\"p1033\"},{\"type\":\"object\",\"name\":\"WheelZoomTool\",\"id\":\"p1034\"},{\"type\":\"object\",\"name\":\"BoxZoomTool\",\"id\":\"p1035\",\"attributes\":{\"overlay\":{\"type\":\"object\",\"name\":\"BoxAnnotation\",\"id\":\"p1036\",\"attributes\":{\"syncable\":false,\"level\":\"overlay\",\"visible\":false,\"left_units\":\"canvas\",\"right_units\":\"canvas\",\"bottom_units\":\"canvas\",\"top_units\":\"canvas\",\"line_color\":\"black\",\"line_alpha\":1.0,\"line_width\":2,\"line_dash\":[4,4],\"fill_color\":\"lightgrey\",\"fill_alpha\":0.5}}}},{\"type\":\"object\",\"name\":\"SaveTool\",\"id\":\"p1037\"},{\"type\":\"object\",\"name\":\"ResetTool\",\"id\":\"p1038\"},{\"type\":\"object\",\"name\":\"HelpTool\",\"id\":\"p1039\"}]}},\"left\":[{\"type\":\"object\",\"name\":\"LogAxis\",\"id\":\"p1026\",\"attributes\":{\"ticker\":{\"type\":\"object\",\"name\":\"LogTicker\",\"id\":\"p1029\",\"attributes\":{\"num_minor_ticks\":10,\"mantissas\":[1,5]}},\"formatter\":{\"type\":\"object\",\"name\":\"NumeralTickFormatter\",\"id\":\"p1057\",\"attributes\":{\"format\":\"0.0\"}},\"axis_label\":\"Throughput\",\"major_label_policy\":{\"type\":\"object\",\"name\":\"AllLabels\",\"id\":\"p1027\"}}}],\"below\":[{\"type\":\"object\",\"name\":\"CategoricalAxis\",\"id\":\"p1020\",\"attributes\":{\"ticker\":{\"type\":\"object\",\"name\":\"CategoricalTicker\",\"id\":\"p1023\"},\"formatter\":{\"type\":\"object\",\"name\":\"CategoricalTickFormatter\",\"id\":\"p1022\"},\"major_label_policy\":{\"type\":\"object\",\"name\":\"AllLabels\",\"id\":\"p1021\"}}}],\"center\":[{\"type\":\"object\",\"name\":\"Grid\",\"id\":\"p1025\",\"attributes\":{\"axis\":{\"id\":\"p1020\"}}},{\"type\":\"object\",\"name\":\"Grid\",\"id\":\"p1032\",\"attributes\":{\"dimension\":1,\"axis\":{\"id\":\"p1026\"}}}]}}],\"callbacks\":{\"type\":\"map\"}}};\n  const render_items = [{\"docid\":\"ff7bc4fb-2a01-4086-a393-4411abd01dc1\",\"roots\":{\"p1002\":\"8f10bb48-640d-4741-a49f-8e5a0727a6a8\"},\"root_ids\":[\"p1002\"]}];\n  root.Bokeh.embed.embed_items_notebook(docs_json, render_items);\n  }\n  if (root.Bokeh !== undefined) {\n    embed_document(root);\n  } else {\n    let attempts = 0;\n    const timer = setInterval(function(root) {\n      if (root.Bokeh !== undefined) {\n        clearInterval(timer);\n        embed_document(root);\n      } else {\n        attempts++;\n        if (attempts > 100) {\n          clearInterval(timer);\n          console.log(\"Bokeh: ERROR: Unable to run BokehJS code because BokehJS library is missing\");\n        }\n      }\n    }, 10, root)\n  }\n})(window);",
      "application/vnd.bokehjs_exec.v0+json": ""
     },
     "metadata": {
      "application/vnd.bokehjs_exec.v0+json": {
       "id": "p1002"
      }
     },
     "output_type": "display_data"
    },
    {
     "name": "stderr",
     "output_type": "stream",
     "text": [
      "WARNING:bokeh.io.export:There were browser warnings and/or errors that may have affected your export\n",
      "WARNING:bokeh.io.export:file:///Users/effywn/projects/EECE5643_final/lsm/traces/bokehazfvkuxh.html 283:1734 \"[bokeh]\" \"could not determine minimum data value for log axis, DataRange1d using value 0.058499999999999996\"\n"
     ]
    },
    {
     "data": {
      "text/plain": [
       "'/Users/effywn/projects/EECE5643_final/lsm/traces/realistic_trace_throughput.png'"
      ]
     },
     "execution_count": 2,
     "metadata": {},
     "output_type": "execute_result"
    }
   ],
   "source": [
    "categories = ['LSM', 'LSM2']\n",
    "values = [5.85, 0.13]\n",
    "\n",
    "p = figure(x_range=categories, height=350, title=\"Throughput by implementations\", y_axis_type=\"log\")\n",
    "\n",
    "\n",
    "\n",
    "p.vbar(x=categories, bottom=0.01, top=values, width=0.7, color = \"#c9d9d3\")\n",
    "\n",
    "p.yaxis.axis_label = 'Throughput'\n",
    "# p.xgrid.grid_line_color = None\n",
    "p.y_range.start = 0\n",
    "p.yaxis[0].formatter = NumeralTickFormatter(format='0.0')\n",
    "\n",
    "show(p)\n",
    "\n",
    "from bokeh.io import export_png, export_svg\n",
    "export_png(p, filename=\"realistic_trace_throughput.png\",webdriver=None)\n"
   ]
  },
  {
   "cell_type": "code",
   "execution_count": 9,
   "metadata": {},
   "outputs": [
    {
     "data": {
      "text/html": [
       "\n",
       "  <div id=\"13b38eac-53cc-43cc-af85-78898e288337\" data-root-id=\"p3197\" style=\"display: contents;\"></div>\n"
      ]
     },
     "metadata": {},
     "output_type": "display_data"
    },
    {
     "data": {
      "application/javascript": "(function(root) {\n  function embed_document(root) {\n  const docs_json = {\"b721d7c6-4d26-47fe-a0c0-128852b9bf0b\":{\"version\":\"3.1.0\",\"title\":\"Bokeh Application\",\"defs\":[],\"roots\":[{\"type\":\"object\",\"name\":\"Figure\",\"id\":\"p3197\",\"attributes\":{\"width\":500,\"height\":350,\"x_range\":{\"type\":\"object\",\"name\":\"FactorRange\",\"id\":\"p3207\",\"attributes\":{\"factors\":[\"LSM\",\"LSM2\"]}},\"y_range\":{\"type\":\"object\",\"name\":\"DataRange1d\",\"id\":\"p3199\",\"attributes\":{\"start\":0}},\"x_scale\":{\"type\":\"object\",\"name\":\"CategoricalScale\",\"id\":\"p3211\"},\"y_scale\":{\"type\":\"object\",\"name\":\"LogScale\",\"id\":\"p3213\"},\"title\":{\"type\":\"object\",\"name\":\"Title\",\"id\":\"p3200\",\"attributes\":{\"text\":\"Throughput by implementations\"}},\"renderers\":[{\"type\":\"object\",\"name\":\"GlyphRenderer\",\"id\":\"p3250\",\"attributes\":{\"data_source\":{\"type\":\"object\",\"name\":\"ColumnDataSource\",\"id\":\"p3194\",\"attributes\":{\"selected\":{\"type\":\"object\",\"name\":\"Selection\",\"id\":\"p3195\",\"attributes\":{\"indices\":[],\"line_indices\":[]}},\"selection_policy\":{\"type\":\"object\",\"name\":\"UnionRenderers\",\"id\":\"p3196\"},\"data\":{\"type\":\"map\",\"entries\":[[\"LSM Implementation\",[\"LSM\",\"LSM2\"]],[\"PUT\",[1.8,1.56]],[\"sequential GET\",[1.37,0.041]],[\"shuffled GET\",[1.35,0.042]]]}}},\"view\":{\"type\":\"object\",\"name\":\"CDSView\",\"id\":\"p3251\",\"attributes\":{\"filter\":{\"type\":\"object\",\"name\":\"AllIndices\",\"id\":\"p3252\"}}},\"glyph\":{\"type\":\"object\",\"name\":\"VBar\",\"id\":\"p3247\",\"attributes\":{\"x\":{\"type\":\"field\",\"field\":\"LSM Implementation\",\"transform\":{\"type\":\"object\",\"name\":\"Dodge\",\"id\":\"p3243\",\"attributes\":{\"value\":-0.2,\"range\":{\"id\":\"p3207\"}}}},\"width\":{\"type\":\"value\",\"value\":0.18},\"bottom\":{\"type\":\"value\",\"value\":0.01},\"top\":{\"type\":\"field\",\"field\":\"PUT\"},\"line_color\":{\"type\":\"value\",\"value\":\"#c9d9d3\"},\"fill_color\":{\"type\":\"value\",\"value\":\"#c9d9d3\"},\"hatch_color\":{\"type\":\"value\",\"value\":\"#c9d9d3\"}}},\"nonselection_glyph\":{\"type\":\"object\",\"name\":\"VBar\",\"id\":\"p3248\",\"attributes\":{\"x\":{\"type\":\"field\",\"field\":\"LSM Implementation\",\"transform\":{\"id\":\"p3243\"}},\"width\":{\"type\":\"value\",\"value\":0.18},\"bottom\":{\"type\":\"value\",\"value\":0.01},\"top\":{\"type\":\"field\",\"field\":\"PUT\"},\"line_color\":{\"type\":\"value\",\"value\":\"#c9d9d3\"},\"line_alpha\":{\"type\":\"value\",\"value\":0.1},\"fill_color\":{\"type\":\"value\",\"value\":\"#c9d9d3\"},\"fill_alpha\":{\"type\":\"value\",\"value\":0.1},\"hatch_color\":{\"type\":\"value\",\"value\":\"#c9d9d3\"},\"hatch_alpha\":{\"type\":\"value\",\"value\":0.1}}},\"muted_glyph\":{\"type\":\"object\",\"name\":\"VBar\",\"id\":\"p3249\",\"attributes\":{\"x\":{\"type\":\"field\",\"field\":\"LSM Implementation\",\"transform\":{\"id\":\"p3243\"}},\"width\":{\"type\":\"value\",\"value\":0.18},\"bottom\":{\"type\":\"value\",\"value\":0.01},\"top\":{\"type\":\"field\",\"field\":\"PUT\"},\"line_color\":{\"type\":\"value\",\"value\":\"#c9d9d3\"},\"line_alpha\":{\"type\":\"value\",\"value\":0.2},\"fill_color\":{\"type\":\"value\",\"value\":\"#c9d9d3\"},\"fill_alpha\":{\"type\":\"value\",\"value\":0.2},\"hatch_color\":{\"type\":\"value\",\"value\":\"#c9d9d3\"},\"hatch_alpha\":{\"type\":\"value\",\"value\":0.2}}}}},{\"type\":\"object\",\"name\":\"GlyphRenderer\",\"id\":\"p3262\",\"attributes\":{\"data_source\":{\"id\":\"p3194\"},\"view\":{\"type\":\"object\",\"name\":\"CDSView\",\"id\":\"p3263\",\"attributes\":{\"filter\":{\"type\":\"object\",\"name\":\"AllIndices\",\"id\":\"p3264\"}}},\"glyph\":{\"type\":\"object\",\"name\":\"VBar\",\"id\":\"p3259\",\"attributes\":{\"x\":{\"type\":\"field\",\"field\":\"LSM Implementation\",\"transform\":{\"type\":\"object\",\"name\":\"Dodge\",\"id\":\"p3255\",\"attributes\":{\"range\":{\"id\":\"p3207\"}}}},\"width\":{\"type\":\"value\",\"value\":0.18},\"bottom\":{\"type\":\"value\",\"value\":0.01},\"top\":{\"type\":\"field\",\"field\":\"sequential GET\"},\"line_color\":{\"type\":\"value\",\"value\":\"#718dbf\"},\"fill_color\":{\"type\":\"value\",\"value\":\"#718dbf\"},\"hatch_color\":{\"type\":\"value\",\"value\":\"#718dbf\"}}},\"nonselection_glyph\":{\"type\":\"object\",\"name\":\"VBar\",\"id\":\"p3260\",\"attributes\":{\"x\":{\"type\":\"field\",\"field\":\"LSM Implementation\",\"transform\":{\"id\":\"p3255\"}},\"width\":{\"type\":\"value\",\"value\":0.18},\"bottom\":{\"type\":\"value\",\"value\":0.01},\"top\":{\"type\":\"field\",\"field\":\"sequential GET\"},\"line_color\":{\"type\":\"value\",\"value\":\"#718dbf\"},\"line_alpha\":{\"type\":\"value\",\"value\":0.1},\"fill_color\":{\"type\":\"value\",\"value\":\"#718dbf\"},\"fill_alpha\":{\"type\":\"value\",\"value\":0.1},\"hatch_color\":{\"type\":\"value\",\"value\":\"#718dbf\"},\"hatch_alpha\":{\"type\":\"value\",\"value\":0.1}}},\"muted_glyph\":{\"type\":\"object\",\"name\":\"VBar\",\"id\":\"p3261\",\"attributes\":{\"x\":{\"type\":\"field\",\"field\":\"LSM Implementation\",\"transform\":{\"id\":\"p3255\"}},\"width\":{\"type\":\"value\",\"value\":0.18},\"bottom\":{\"type\":\"value\",\"value\":0.01},\"top\":{\"type\":\"field\",\"field\":\"sequential GET\"},\"line_color\":{\"type\":\"value\",\"value\":\"#718dbf\"},\"line_alpha\":{\"type\":\"value\",\"value\":0.2},\"fill_color\":{\"type\":\"value\",\"value\":\"#718dbf\"},\"fill_alpha\":{\"type\":\"value\",\"value\":0.2},\"hatch_color\":{\"type\":\"value\",\"value\":\"#718dbf\"},\"hatch_alpha\":{\"type\":\"value\",\"value\":0.2}}}}},{\"type\":\"object\",\"name\":\"GlyphRenderer\",\"id\":\"p3273\",\"attributes\":{\"data_source\":{\"id\":\"p3194\"},\"view\":{\"type\":\"object\",\"name\":\"CDSView\",\"id\":\"p3274\",\"attributes\":{\"filter\":{\"type\":\"object\",\"name\":\"AllIndices\",\"id\":\"p3275\"}}},\"glyph\":{\"type\":\"object\",\"name\":\"VBar\",\"id\":\"p3270\",\"attributes\":{\"x\":{\"type\":\"field\",\"field\":\"LSM Implementation\",\"transform\":{\"type\":\"object\",\"name\":\"Dodge\",\"id\":\"p3266\",\"attributes\":{\"value\":0.2,\"range\":{\"id\":\"p3207\"}}}},\"width\":{\"type\":\"value\",\"value\":0.18},\"bottom\":{\"type\":\"value\",\"value\":0.01},\"top\":{\"type\":\"field\",\"field\":\"shuffled GET\"},\"line_color\":{\"type\":\"value\",\"value\":\"#e84d60\"},\"fill_color\":{\"type\":\"value\",\"value\":\"#e84d60\"},\"hatch_color\":{\"type\":\"value\",\"value\":\"#e84d60\"}}},\"nonselection_glyph\":{\"type\":\"object\",\"name\":\"VBar\",\"id\":\"p3271\",\"attributes\":{\"x\":{\"type\":\"field\",\"field\":\"LSM Implementation\",\"transform\":{\"id\":\"p3266\"}},\"width\":{\"type\":\"value\",\"value\":0.18},\"bottom\":{\"type\":\"value\",\"value\":0.01},\"top\":{\"type\":\"field\",\"field\":\"shuffled GET\"},\"line_color\":{\"type\":\"value\",\"value\":\"#e84d60\"},\"line_alpha\":{\"type\":\"value\",\"value\":0.1},\"fill_color\":{\"type\":\"value\",\"value\":\"#e84d60\"},\"fill_alpha\":{\"type\":\"value\",\"value\":0.1},\"hatch_color\":{\"type\":\"value\",\"value\":\"#e84d60\"},\"hatch_alpha\":{\"type\":\"value\",\"value\":0.1}}},\"muted_glyph\":{\"type\":\"object\",\"name\":\"VBar\",\"id\":\"p3272\",\"attributes\":{\"x\":{\"type\":\"field\",\"field\":\"LSM Implementation\",\"transform\":{\"id\":\"p3266\"}},\"width\":{\"type\":\"value\",\"value\":0.18},\"bottom\":{\"type\":\"value\",\"value\":0.01},\"top\":{\"type\":\"field\",\"field\":\"shuffled GET\"},\"line_color\":{\"type\":\"value\",\"value\":\"#e84d60\"},\"line_alpha\":{\"type\":\"value\",\"value\":0.2},\"fill_color\":{\"type\":\"value\",\"value\":\"#e84d60\"},\"fill_alpha\":{\"type\":\"value\",\"value\":0.2},\"hatch_color\":{\"type\":\"value\",\"value\":\"#e84d60\"},\"hatch_alpha\":{\"type\":\"value\",\"value\":0.2}}}}}],\"toolbar\":{\"type\":\"object\",\"name\":\"Toolbar\",\"id\":\"p3202\",\"attributes\":{\"tools\":[{\"type\":\"object\",\"name\":\"PanTool\",\"id\":\"p3228\"},{\"type\":\"object\",\"name\":\"WheelZoomTool\",\"id\":\"p3229\"},{\"type\":\"object\",\"name\":\"BoxZoomTool\",\"id\":\"p3230\",\"attributes\":{\"overlay\":{\"type\":\"object\",\"name\":\"BoxAnnotation\",\"id\":\"p3231\",\"attributes\":{\"syncable\":false,\"level\":\"overlay\",\"visible\":false,\"left_units\":\"canvas\",\"right_units\":\"canvas\",\"bottom_units\":\"canvas\",\"top_units\":\"canvas\",\"line_color\":\"black\",\"line_alpha\":1.0,\"line_width\":2,\"line_dash\":[4,4],\"fill_color\":\"lightgrey\",\"fill_alpha\":0.5}}}},{\"type\":\"object\",\"name\":\"SaveTool\",\"id\":\"p3232\"},{\"type\":\"object\",\"name\":\"ResetTool\",\"id\":\"p3233\"},{\"type\":\"object\",\"name\":\"HelpTool\",\"id\":\"p3234\"}]}},\"toolbar_location\":null,\"left\":[{\"type\":\"object\",\"name\":\"LogAxis\",\"id\":\"p3221\",\"attributes\":{\"ticker\":{\"type\":\"object\",\"name\":\"LogTicker\",\"id\":\"p3224\",\"attributes\":{\"num_minor_ticks\":10,\"mantissas\":[1,5]}},\"formatter\":{\"type\":\"object\",\"name\":\"NumeralTickFormatter\",\"id\":\"p3277\",\"attributes\":{\"format\":\"0.0\"}},\"axis_label\":\"Throughput\",\"major_label_policy\":{\"type\":\"object\",\"name\":\"AllLabels\",\"id\":\"p3222\"}}}],\"below\":[{\"type\":\"object\",\"name\":\"CategoricalAxis\",\"id\":\"p3215\",\"attributes\":{\"ticker\":{\"type\":\"object\",\"name\":\"CategoricalTicker\",\"id\":\"p3218\"},\"formatter\":{\"type\":\"object\",\"name\":\"CategoricalTickFormatter\",\"id\":\"p3217\"},\"major_label_policy\":{\"type\":\"object\",\"name\":\"AllLabels\",\"id\":\"p3216\"}}}],\"center\":[{\"type\":\"object\",\"name\":\"Grid\",\"id\":\"p3220\",\"attributes\":{\"axis\":{\"id\":\"p3215\"}}},{\"type\":\"object\",\"name\":\"Grid\",\"id\":\"p3227\",\"attributes\":{\"dimension\":1,\"axis\":{\"id\":\"p3221\"}}},{\"type\":\"object\",\"name\":\"Legend\",\"id\":\"p3253\",\"attributes\":{\"label_text_font_size\":\"8pt\",\"items\":[{\"type\":\"object\",\"name\":\"LegendItem\",\"id\":\"p3254\",\"attributes\":{\"label\":{\"type\":\"value\",\"value\":\"PUT\"},\"renderers\":[{\"id\":\"p3250\"}]}},{\"type\":\"object\",\"name\":\"LegendItem\",\"id\":\"p3265\",\"attributes\":{\"label\":{\"type\":\"value\",\"value\":\"sequential GET\"},\"renderers\":[{\"id\":\"p3262\"}]}},{\"type\":\"object\",\"name\":\"LegendItem\",\"id\":\"p3276\",\"attributes\":{\"label\":{\"type\":\"value\",\"value\":\"shuffled GET\"},\"renderers\":[{\"id\":\"p3273\"}]}}]}}]}}],\"callbacks\":{\"type\":\"map\"}}};\n  const render_items = [{\"docid\":\"b721d7c6-4d26-47fe-a0c0-128852b9bf0b\",\"roots\":{\"p3197\":\"13b38eac-53cc-43cc-af85-78898e288337\"},\"root_ids\":[\"p3197\"]}];\n  root.Bokeh.embed.embed_items_notebook(docs_json, render_items);\n  }\n  if (root.Bokeh !== undefined) {\n    embed_document(root);\n  } else {\n    let attempts = 0;\n    const timer = setInterval(function(root) {\n      if (root.Bokeh !== undefined) {\n        clearInterval(timer);\n        embed_document(root);\n      } else {\n        attempts++;\n        if (attempts > 100) {\n          clearInterval(timer);\n          console.log(\"Bokeh: ERROR: Unable to run BokehJS code because BokehJS library is missing\");\n        }\n      }\n    }, 10, root)\n  }\n})(window);",
      "application/vnd.bokehjs_exec.v0+json": ""
     },
     "metadata": {
      "application/vnd.bokehjs_exec.v0+json": {
       "id": "p3197"
      }
     },
     "output_type": "display_data"
    },
    {
     "name": "stderr",
     "output_type": "stream",
     "text": [
      "WARNING:bokeh.io.export:There were browser warnings and/or errors that may have affected your export\n",
      "WARNING:bokeh.io.export:file:///Users/effywn/projects/EECE5643_final/lsm/traces/bokehp9zrko8f.html 283:1734 \"[bokeh]\" \"could not determine minimum data value for log axis, DataRange1d using value 0.018000000000000002\"\n"
     ]
    },
    {
     "data": {
      "text/plain": [
       "'/Users/effywn/projects/EECE5643_final/lsm/traces/synthetic_trace_throughput.png'"
      ]
     },
     "execution_count": 9,
     "metadata": {},
     "output_type": "execute_result"
    }
   ],
   "source": [
    "from bokeh.transform import dodge\n",
    "\n",
    "categories = ['LSM', 'LSM2']\n",
    "workloads = ['PUT', 'GET']\n",
    "\n",
    "data = {'LSM Implementation' : categories,\n",
    "        'PUT'   : [1.80 , 1.56],\n",
    "        'sequential GET'   : [1.37 , 0.041],\n",
    "        'shuffled GET':[1.35, 0.042]}\n",
    "\n",
    "source = ColumnDataSource(data=data)\n",
    "p = figure(x_range=categories, height=350, width=500, title=\"Throughput by implementations\", y_axis_type=\"log\", toolbar_location=None)\n",
    "\n",
    "# p = figure(x_range=categories,  title=\"Throughput by workloads\",\n",
    "#            height=350, toolbar_location=None,\n",
    "#             y_axis_type=\"log\")\n",
    "\n",
    "p.vbar(x=dodge('LSM Implementation', -0.2, range=p.x_range), bottom=0.01, top='PUT', source=source,\n",
    "       width=0.18, color=\"#c9d9d3\", legend_label=\"PUT\")\n",
    "\n",
    "p.vbar(x=dodge('LSM Implementation',  0,  range=p.x_range), bottom=0.01, top='sequential GET', source=source,\n",
    "       width=0.18, color=\"#718dbf\", legend_label=\"sequential GET\")\n",
    "\n",
    "p.vbar(x=dodge('LSM Implementation',  0.2,  range=p.x_range), bottom=0.01, top='shuffled GET', source=source,\n",
    "       width=0.18, color=\"#e84d60\", legend_label=\"shuffled GET\")\n",
    "\n",
    "p.yaxis.axis_label = 'Throughput'\n",
    "p.y_range.start = 0\n",
    "p.yaxis[0].formatter = NumeralTickFormatter(format='0.0')\n",
    "# p.x_range.start = -0.05\n",
    "p.legend.location = \"top_right\"\n",
    "p.legend.label_text_font_size = \"8pt\"\n",
    "p.x_range.range_padding = 0.0\n",
    "show(p)\n",
    "export_png(p, filename=\"synthetic_trace_throughput.png\")"
   ]
  },
  {
   "cell_type": "code",
   "execution_count": 5,
   "metadata": {},
   "outputs": [
    {
     "data": {
      "text/html": [
       "\n",
       "  <div id=\"4e396a30-63a2-4797-97dd-ac558e241b1f\" data-root-id=\"p1756\" style=\"display: contents;\"></div>\n"
      ]
     },
     "metadata": {},
     "output_type": "display_data"
    },
    {
     "data": {
      "application/javascript": "(function(root) {\n  function embed_document(root) {\n  const docs_json = {\"18fb5efb-71b8-4770-a25a-c841e2fc6123\":{\"version\":\"3.1.0\",\"title\":\"Bokeh Application\",\"defs\":[],\"roots\":[{\"type\":\"object\",\"name\":\"Figure\",\"id\":\"p1756\",\"attributes\":{\"width\":500,\"height\":350,\"x_range\":{\"type\":\"object\",\"name\":\"FactorRange\",\"id\":\"p1766\",\"attributes\":{\"factors\":[\"LSM\",\"LSM2\"]}},\"y_range\":{\"type\":\"object\",\"name\":\"DataRange1d\",\"id\":\"p1758\",\"attributes\":{\"start\":0}},\"x_scale\":{\"type\":\"object\",\"name\":\"CategoricalScale\",\"id\":\"p1770\"},\"y_scale\":{\"type\":\"object\",\"name\":\"LogScale\",\"id\":\"p1772\"},\"title\":{\"type\":\"object\",\"name\":\"Title\",\"id\":\"p1759\",\"attributes\":{\"text\":\"Throughput by implementations\"}},\"renderers\":[{\"type\":\"object\",\"name\":\"GlyphRenderer\",\"id\":\"p1809\",\"attributes\":{\"data_source\":{\"type\":\"object\",\"name\":\"ColumnDataSource\",\"id\":\"p1753\",\"attributes\":{\"selected\":{\"type\":\"object\",\"name\":\"Selection\",\"id\":\"p1754\",\"attributes\":{\"indices\":[],\"line_indices\":[]}},\"selection_policy\":{\"type\":\"object\",\"name\":\"UnionRenderers\",\"id\":\"p1755\"},\"data\":{\"type\":\"map\",\"entries\":[[\"LSM Implementation\",[\"LSM\",\"LSM2\"]],[\"PUT\",[1589927,1630039]],[\"GET\",[873009,31991755]]]}}},\"view\":{\"type\":\"object\",\"name\":\"CDSView\",\"id\":\"p1810\",\"attributes\":{\"filter\":{\"type\":\"object\",\"name\":\"AllIndices\",\"id\":\"p1811\"}}},\"glyph\":{\"type\":\"object\",\"name\":\"VBar\",\"id\":\"p1806\",\"attributes\":{\"x\":{\"type\":\"field\",\"field\":\"LSM Implementation\",\"transform\":{\"type\":\"object\",\"name\":\"Dodge\",\"id\":\"p1802\",\"attributes\":{\"value\":-0.15,\"range\":{\"id\":\"p1766\"}}}},\"width\":{\"type\":\"value\",\"value\":0.25},\"bottom\":{\"type\":\"value\",\"value\":0.01},\"top\":{\"type\":\"field\",\"field\":\"PUT\"},\"line_color\":{\"type\":\"value\",\"value\":\"#c9d9d3\"},\"fill_color\":{\"type\":\"value\",\"value\":\"#c9d9d3\"},\"hatch_color\":{\"type\":\"value\",\"value\":\"#c9d9d3\"}}},\"nonselection_glyph\":{\"type\":\"object\",\"name\":\"VBar\",\"id\":\"p1807\",\"attributes\":{\"x\":{\"type\":\"field\",\"field\":\"LSM Implementation\",\"transform\":{\"id\":\"p1802\"}},\"width\":{\"type\":\"value\",\"value\":0.25},\"bottom\":{\"type\":\"value\",\"value\":0.01},\"top\":{\"type\":\"field\",\"field\":\"PUT\"},\"line_color\":{\"type\":\"value\",\"value\":\"#c9d9d3\"},\"line_alpha\":{\"type\":\"value\",\"value\":0.1},\"fill_color\":{\"type\":\"value\",\"value\":\"#c9d9d3\"},\"fill_alpha\":{\"type\":\"value\",\"value\":0.1},\"hatch_color\":{\"type\":\"value\",\"value\":\"#c9d9d3\"},\"hatch_alpha\":{\"type\":\"value\",\"value\":0.1}}},\"muted_glyph\":{\"type\":\"object\",\"name\":\"VBar\",\"id\":\"p1808\",\"attributes\":{\"x\":{\"type\":\"field\",\"field\":\"LSM Implementation\",\"transform\":{\"id\":\"p1802\"}},\"width\":{\"type\":\"value\",\"value\":0.25},\"bottom\":{\"type\":\"value\",\"value\":0.01},\"top\":{\"type\":\"field\",\"field\":\"PUT\"},\"line_color\":{\"type\":\"value\",\"value\":\"#c9d9d3\"},\"line_alpha\":{\"type\":\"value\",\"value\":0.2},\"fill_color\":{\"type\":\"value\",\"value\":\"#c9d9d3\"},\"fill_alpha\":{\"type\":\"value\",\"value\":0.2},\"hatch_color\":{\"type\":\"value\",\"value\":\"#c9d9d3\"},\"hatch_alpha\":{\"type\":\"value\",\"value\":0.2}}}}},{\"type\":\"object\",\"name\":\"GlyphRenderer\",\"id\":\"p1821\",\"attributes\":{\"data_source\":{\"id\":\"p1753\"},\"view\":{\"type\":\"object\",\"name\":\"CDSView\",\"id\":\"p1822\",\"attributes\":{\"filter\":{\"type\":\"object\",\"name\":\"AllIndices\",\"id\":\"p1823\"}}},\"glyph\":{\"type\":\"object\",\"name\":\"VBar\",\"id\":\"p1818\",\"attributes\":{\"x\":{\"type\":\"field\",\"field\":\"LSM Implementation\",\"transform\":{\"type\":\"object\",\"name\":\"Dodge\",\"id\":\"p1814\",\"attributes\":{\"value\":0.15,\"range\":{\"id\":\"p1766\"}}}},\"width\":{\"type\":\"value\",\"value\":0.25},\"bottom\":{\"type\":\"value\",\"value\":0.01},\"top\":{\"type\":\"field\",\"field\":\"GET\"},\"line_color\":{\"type\":\"value\",\"value\":\"#718dbf\"},\"fill_color\":{\"type\":\"value\",\"value\":\"#718dbf\"},\"hatch_color\":{\"type\":\"value\",\"value\":\"#718dbf\"}}},\"nonselection_glyph\":{\"type\":\"object\",\"name\":\"VBar\",\"id\":\"p1819\",\"attributes\":{\"x\":{\"type\":\"field\",\"field\":\"LSM Implementation\",\"transform\":{\"id\":\"p1814\"}},\"width\":{\"type\":\"value\",\"value\":0.25},\"bottom\":{\"type\":\"value\",\"value\":0.01},\"top\":{\"type\":\"field\",\"field\":\"GET\"},\"line_color\":{\"type\":\"value\",\"value\":\"#718dbf\"},\"line_alpha\":{\"type\":\"value\",\"value\":0.1},\"fill_color\":{\"type\":\"value\",\"value\":\"#718dbf\"},\"fill_alpha\":{\"type\":\"value\",\"value\":0.1},\"hatch_color\":{\"type\":\"value\",\"value\":\"#718dbf\"},\"hatch_alpha\":{\"type\":\"value\",\"value\":0.1}}},\"muted_glyph\":{\"type\":\"object\",\"name\":\"VBar\",\"id\":\"p1820\",\"attributes\":{\"x\":{\"type\":\"field\",\"field\":\"LSM Implementation\",\"transform\":{\"id\":\"p1814\"}},\"width\":{\"type\":\"value\",\"value\":0.25},\"bottom\":{\"type\":\"value\",\"value\":0.01},\"top\":{\"type\":\"field\",\"field\":\"GET\"},\"line_color\":{\"type\":\"value\",\"value\":\"#718dbf\"},\"line_alpha\":{\"type\":\"value\",\"value\":0.2},\"fill_color\":{\"type\":\"value\",\"value\":\"#718dbf\"},\"fill_alpha\":{\"type\":\"value\",\"value\":0.2},\"hatch_color\":{\"type\":\"value\",\"value\":\"#718dbf\"},\"hatch_alpha\":{\"type\":\"value\",\"value\":0.2}}}}}],\"toolbar\":{\"type\":\"object\",\"name\":\"Toolbar\",\"id\":\"p1761\",\"attributes\":{\"tools\":[{\"type\":\"object\",\"name\":\"PanTool\",\"id\":\"p1787\"},{\"type\":\"object\",\"name\":\"WheelZoomTool\",\"id\":\"p1788\"},{\"type\":\"object\",\"name\":\"BoxZoomTool\",\"id\":\"p1789\",\"attributes\":{\"overlay\":{\"type\":\"object\",\"name\":\"BoxAnnotation\",\"id\":\"p1790\",\"attributes\":{\"syncable\":false,\"level\":\"overlay\",\"visible\":false,\"left_units\":\"canvas\",\"right_units\":\"canvas\",\"bottom_units\":\"canvas\",\"top_units\":\"canvas\",\"line_color\":\"black\",\"line_alpha\":1.0,\"line_width\":2,\"line_dash\":[4,4],\"fill_color\":\"lightgrey\",\"fill_alpha\":0.5}}}},{\"type\":\"object\",\"name\":\"SaveTool\",\"id\":\"p1791\"},{\"type\":\"object\",\"name\":\"ResetTool\",\"id\":\"p1792\"},{\"type\":\"object\",\"name\":\"HelpTool\",\"id\":\"p1793\"}]}},\"toolbar_location\":null,\"left\":[{\"type\":\"object\",\"name\":\"LogAxis\",\"id\":\"p1780\",\"attributes\":{\"ticker\":{\"type\":\"object\",\"name\":\"LogTicker\",\"id\":\"p1783\",\"attributes\":{\"num_minor_ticks\":10,\"mantissas\":[1,5]}},\"formatter\":{\"type\":\"object\",\"name\":\"LogTickFormatter\",\"id\":\"p1782\"},\"axis_label\":\"Latency\",\"major_label_policy\":{\"type\":\"object\",\"name\":\"AllLabels\",\"id\":\"p1781\"}}}],\"below\":[{\"type\":\"object\",\"name\":\"CategoricalAxis\",\"id\":\"p1774\",\"attributes\":{\"ticker\":{\"type\":\"object\",\"name\":\"CategoricalTicker\",\"id\":\"p1777\"},\"formatter\":{\"type\":\"object\",\"name\":\"CategoricalTickFormatter\",\"id\":\"p1776\"},\"major_label_policy\":{\"type\":\"object\",\"name\":\"AllLabels\",\"id\":\"p1775\"}}}],\"center\":[{\"type\":\"object\",\"name\":\"Grid\",\"id\":\"p1779\",\"attributes\":{\"axis\":{\"id\":\"p1774\"}}},{\"type\":\"object\",\"name\":\"Grid\",\"id\":\"p1786\",\"attributes\":{\"dimension\":1,\"axis\":{\"id\":\"p1780\"}}},{\"type\":\"object\",\"name\":\"Legend\",\"id\":\"p1812\",\"attributes\":{\"orientation\":\"horizontal\",\"items\":[{\"type\":\"object\",\"name\":\"LegendItem\",\"id\":\"p1813\",\"attributes\":{\"label\":{\"type\":\"value\",\"value\":\"PUT\"},\"renderers\":[{\"id\":\"p1809\"}]}},{\"type\":\"object\",\"name\":\"LegendItem\",\"id\":\"p1824\",\"attributes\":{\"label\":{\"type\":\"value\",\"value\":\"GET\"},\"renderers\":[{\"id\":\"p1821\"}]}}]}}]}}],\"callbacks\":{\"type\":\"map\"}}};\n  const render_items = [{\"docid\":\"18fb5efb-71b8-4770-a25a-c841e2fc6123\",\"roots\":{\"p1756\":\"4e396a30-63a2-4797-97dd-ac558e241b1f\"},\"root_ids\":[\"p1756\"]}];\n  root.Bokeh.embed.embed_items_notebook(docs_json, render_items);\n  }\n  if (root.Bokeh !== undefined) {\n    embed_document(root);\n  } else {\n    let attempts = 0;\n    const timer = setInterval(function(root) {\n      if (root.Bokeh !== undefined) {\n        clearInterval(timer);\n        embed_document(root);\n      } else {\n        attempts++;\n        if (attempts > 100) {\n          clearInterval(timer);\n          console.log(\"Bokeh: ERROR: Unable to run BokehJS code because BokehJS library is missing\");\n        }\n      }\n    }, 10, root)\n  }\n})(window);",
      "application/vnd.bokehjs_exec.v0+json": ""
     },
     "metadata": {
      "application/vnd.bokehjs_exec.v0+json": {
       "id": "p1756"
      }
     },
     "output_type": "display_data"
    },
    {
     "name": "stderr",
     "output_type": "stream",
     "text": [
      "WARNING:bokeh.io.export:There were browser warnings and/or errors that may have affected your export\n",
      "WARNING:bokeh.io.export:file:///Users/effywn/projects/EECE5643_final/lsm/traces/bokehxlkochfn.html 283:1734 \"[bokeh]\" \"could not determine minimum data value for log axis, DataRange1d using value 319917.55\"\n"
     ]
    },
    {
     "data": {
      "text/plain": [
       "'/Users/effywn/projects/EECE5643_final/lsm/traces/synthetic_trace_latency.png'"
      ]
     },
     "execution_count": 5,
     "metadata": {},
     "output_type": "execute_result"
    }
   ],
   "source": [
    "categories = ['LSM', 'LSM2']\n",
    "workloads = ['PUT', 'GET']\n",
    "\n",
    "data = {'LSM Implementation' : categories,\n",
    "        'PUT'   : [1589927  , 1630039],\n",
    "        'GET'   : [873009 , 31991755]}\n",
    "\n",
    "source = ColumnDataSource(data=data)\n",
    "p = figure(x_range=categories, height=350, width=500, title=\"Throughput by implementations\", y_axis_type=\"log\", toolbar_location=None)\n",
    "\n",
    "# p = figure(x_range=categories,  title=\"Throughput by workloads\",\n",
    "#            height=350, toolbar_location=None,\n",
    "#             y_axis_type=\"log\")\n",
    "\n",
    "p.vbar(x=dodge('LSM Implementation', -0.15, range=p.x_range), bottom=0.01, top='PUT', source=source,\n",
    "       width=0.25, color=\"#c9d9d3\", legend_label=\"PUT\")\n",
    "\n",
    "p.vbar(x=dodge('LSM Implementation',  0.15,  range=p.x_range), bottom=0.01, top='GET', source=source,\n",
    "       width=0.25, color=\"#718dbf\", legend_label=\"GET\")\n",
    "p.yaxis.axis_label = 'Latency'\n",
    "p.y_range.start = 0\n",
    "p.legend.location = \"top_right\"\n",
    "p.legend.orientation = \"horizontal\"\n",
    "p.x_range.range_padding = 0.0\n",
    "show(p)\n",
    "export_png(p, filename=\"synthetic_trace_latency.png\")\n"
   ]
  },
  {
   "cell_type": "code",
   "execution_count": 10,
   "metadata": {},
   "outputs": [
    {
     "data": {
      "text/html": [
       "\n",
       "  <div id=\"07ed60d4-3917-45b2-ad1a-bc050ea5883d\" data-root-id=\"p3611\" style=\"display: contents;\"></div>\n"
      ]
     },
     "metadata": {},
     "output_type": "display_data"
    },
    {
     "data": {
      "application/javascript": "(function(root) {\n  function embed_document(root) {\n  const docs_json = {\"ef7e4790-20a8-448d-b91c-c020c01b8f80\":{\"version\":\"3.1.0\",\"title\":\"Bokeh Application\",\"defs\":[],\"roots\":[{\"type\":\"object\",\"name\":\"Figure\",\"id\":\"p3611\",\"attributes\":{\"width\":500,\"height\":350,\"x_range\":{\"type\":\"object\",\"name\":\"FactorRange\",\"id\":\"p3621\",\"attributes\":{\"factors\":[\"LSM\",\"LSM2\"]}},\"y_range\":{\"type\":\"object\",\"name\":\"DataRange1d\",\"id\":\"p3613\",\"attributes\":{\"start\":0}},\"x_scale\":{\"type\":\"object\",\"name\":\"CategoricalScale\",\"id\":\"p3625\"},\"y_scale\":{\"type\":\"object\",\"name\":\"LogScale\",\"id\":\"p3627\"},\"title\":{\"type\":\"object\",\"name\":\"Title\",\"id\":\"p3614\",\"attributes\":{\"text\":\"Throughput by implementations\"}},\"renderers\":[{\"type\":\"object\",\"name\":\"GlyphRenderer\",\"id\":\"p3664\",\"attributes\":{\"data_source\":{\"type\":\"object\",\"name\":\"ColumnDataSource\",\"id\":\"p3608\",\"attributes\":{\"selected\":{\"type\":\"object\",\"name\":\"Selection\",\"id\":\"p3609\",\"attributes\":{\"indices\":[],\"line_indices\":[]}},\"selection_policy\":{\"type\":\"object\",\"name\":\"UnionRenderers\",\"id\":\"p3610\"},\"data\":{\"type\":\"map\",\"entries\":[[\"LSM Implementation\",[\"LSM\",\"LSM2\"]],[\"PUT\",[1.85,1.28]],[\"sequential GET\",[1.82,0.047]],[\"shuffled GET\",[1.8,0.048]]]}}},\"view\":{\"type\":\"object\",\"name\":\"CDSView\",\"id\":\"p3665\",\"attributes\":{\"filter\":{\"type\":\"object\",\"name\":\"AllIndices\",\"id\":\"p3666\"}}},\"glyph\":{\"type\":\"object\",\"name\":\"VBar\",\"id\":\"p3661\",\"attributes\":{\"x\":{\"type\":\"field\",\"field\":\"LSM Implementation\",\"transform\":{\"type\":\"object\",\"name\":\"Dodge\",\"id\":\"p3657\",\"attributes\":{\"value\":-0.2,\"range\":{\"id\":\"p3621\"}}}},\"width\":{\"type\":\"value\",\"value\":0.18},\"bottom\":{\"type\":\"value\",\"value\":0.01},\"top\":{\"type\":\"field\",\"field\":\"PUT\"},\"line_color\":{\"type\":\"value\",\"value\":\"#c9d9d3\"},\"fill_color\":{\"type\":\"value\",\"value\":\"#c9d9d3\"},\"hatch_color\":{\"type\":\"value\",\"value\":\"#c9d9d3\"}}},\"nonselection_glyph\":{\"type\":\"object\",\"name\":\"VBar\",\"id\":\"p3662\",\"attributes\":{\"x\":{\"type\":\"field\",\"field\":\"LSM Implementation\",\"transform\":{\"id\":\"p3657\"}},\"width\":{\"type\":\"value\",\"value\":0.18},\"bottom\":{\"type\":\"value\",\"value\":0.01},\"top\":{\"type\":\"field\",\"field\":\"PUT\"},\"line_color\":{\"type\":\"value\",\"value\":\"#c9d9d3\"},\"line_alpha\":{\"type\":\"value\",\"value\":0.1},\"fill_color\":{\"type\":\"value\",\"value\":\"#c9d9d3\"},\"fill_alpha\":{\"type\":\"value\",\"value\":0.1},\"hatch_color\":{\"type\":\"value\",\"value\":\"#c9d9d3\"},\"hatch_alpha\":{\"type\":\"value\",\"value\":0.1}}},\"muted_glyph\":{\"type\":\"object\",\"name\":\"VBar\",\"id\":\"p3663\",\"attributes\":{\"x\":{\"type\":\"field\",\"field\":\"LSM Implementation\",\"transform\":{\"id\":\"p3657\"}},\"width\":{\"type\":\"value\",\"value\":0.18},\"bottom\":{\"type\":\"value\",\"value\":0.01},\"top\":{\"type\":\"field\",\"field\":\"PUT\"},\"line_color\":{\"type\":\"value\",\"value\":\"#c9d9d3\"},\"line_alpha\":{\"type\":\"value\",\"value\":0.2},\"fill_color\":{\"type\":\"value\",\"value\":\"#c9d9d3\"},\"fill_alpha\":{\"type\":\"value\",\"value\":0.2},\"hatch_color\":{\"type\":\"value\",\"value\":\"#c9d9d3\"},\"hatch_alpha\":{\"type\":\"value\",\"value\":0.2}}}}},{\"type\":\"object\",\"name\":\"GlyphRenderer\",\"id\":\"p3676\",\"attributes\":{\"data_source\":{\"id\":\"p3608\"},\"view\":{\"type\":\"object\",\"name\":\"CDSView\",\"id\":\"p3677\",\"attributes\":{\"filter\":{\"type\":\"object\",\"name\":\"AllIndices\",\"id\":\"p3678\"}}},\"glyph\":{\"type\":\"object\",\"name\":\"VBar\",\"id\":\"p3673\",\"attributes\":{\"x\":{\"type\":\"field\",\"field\":\"LSM Implementation\",\"transform\":{\"type\":\"object\",\"name\":\"Dodge\",\"id\":\"p3669\",\"attributes\":{\"range\":{\"id\":\"p3621\"}}}},\"width\":{\"type\":\"value\",\"value\":0.18},\"bottom\":{\"type\":\"value\",\"value\":0.01},\"top\":{\"type\":\"field\",\"field\":\"sequential GET\"},\"line_color\":{\"type\":\"value\",\"value\":\"#718dbf\"},\"fill_color\":{\"type\":\"value\",\"value\":\"#718dbf\"},\"hatch_color\":{\"type\":\"value\",\"value\":\"#718dbf\"}}},\"nonselection_glyph\":{\"type\":\"object\",\"name\":\"VBar\",\"id\":\"p3674\",\"attributes\":{\"x\":{\"type\":\"field\",\"field\":\"LSM Implementation\",\"transform\":{\"id\":\"p3669\"}},\"width\":{\"type\":\"value\",\"value\":0.18},\"bottom\":{\"type\":\"value\",\"value\":0.01},\"top\":{\"type\":\"field\",\"field\":\"sequential GET\"},\"line_color\":{\"type\":\"value\",\"value\":\"#718dbf\"},\"line_alpha\":{\"type\":\"value\",\"value\":0.1},\"fill_color\":{\"type\":\"value\",\"value\":\"#718dbf\"},\"fill_alpha\":{\"type\":\"value\",\"value\":0.1},\"hatch_color\":{\"type\":\"value\",\"value\":\"#718dbf\"},\"hatch_alpha\":{\"type\":\"value\",\"value\":0.1}}},\"muted_glyph\":{\"type\":\"object\",\"name\":\"VBar\",\"id\":\"p3675\",\"attributes\":{\"x\":{\"type\":\"field\",\"field\":\"LSM Implementation\",\"transform\":{\"id\":\"p3669\"}},\"width\":{\"type\":\"value\",\"value\":0.18},\"bottom\":{\"type\":\"value\",\"value\":0.01},\"top\":{\"type\":\"field\",\"field\":\"sequential GET\"},\"line_color\":{\"type\":\"value\",\"value\":\"#718dbf\"},\"line_alpha\":{\"type\":\"value\",\"value\":0.2},\"fill_color\":{\"type\":\"value\",\"value\":\"#718dbf\"},\"fill_alpha\":{\"type\":\"value\",\"value\":0.2},\"hatch_color\":{\"type\":\"value\",\"value\":\"#718dbf\"},\"hatch_alpha\":{\"type\":\"value\",\"value\":0.2}}}}},{\"type\":\"object\",\"name\":\"GlyphRenderer\",\"id\":\"p3687\",\"attributes\":{\"data_source\":{\"id\":\"p3608\"},\"view\":{\"type\":\"object\",\"name\":\"CDSView\",\"id\":\"p3688\",\"attributes\":{\"filter\":{\"type\":\"object\",\"name\":\"AllIndices\",\"id\":\"p3689\"}}},\"glyph\":{\"type\":\"object\",\"name\":\"VBar\",\"id\":\"p3684\",\"attributes\":{\"x\":{\"type\":\"field\",\"field\":\"LSM Implementation\",\"transform\":{\"type\":\"object\",\"name\":\"Dodge\",\"id\":\"p3680\",\"attributes\":{\"value\":0.2,\"range\":{\"id\":\"p3621\"}}}},\"width\":{\"type\":\"value\",\"value\":0.18},\"bottom\":{\"type\":\"value\",\"value\":0.01},\"top\":{\"type\":\"field\",\"field\":\"shuffled GET\"},\"line_color\":{\"type\":\"value\",\"value\":\"#e84d60\"},\"fill_color\":{\"type\":\"value\",\"value\":\"#e84d60\"},\"hatch_color\":{\"type\":\"value\",\"value\":\"#e84d60\"}}},\"nonselection_glyph\":{\"type\":\"object\",\"name\":\"VBar\",\"id\":\"p3685\",\"attributes\":{\"x\":{\"type\":\"field\",\"field\":\"LSM Implementation\",\"transform\":{\"id\":\"p3680\"}},\"width\":{\"type\":\"value\",\"value\":0.18},\"bottom\":{\"type\":\"value\",\"value\":0.01},\"top\":{\"type\":\"field\",\"field\":\"shuffled GET\"},\"line_color\":{\"type\":\"value\",\"value\":\"#e84d60\"},\"line_alpha\":{\"type\":\"value\",\"value\":0.1},\"fill_color\":{\"type\":\"value\",\"value\":\"#e84d60\"},\"fill_alpha\":{\"type\":\"value\",\"value\":0.1},\"hatch_color\":{\"type\":\"value\",\"value\":\"#e84d60\"},\"hatch_alpha\":{\"type\":\"value\",\"value\":0.1}}},\"muted_glyph\":{\"type\":\"object\",\"name\":\"VBar\",\"id\":\"p3686\",\"attributes\":{\"x\":{\"type\":\"field\",\"field\":\"LSM Implementation\",\"transform\":{\"id\":\"p3680\"}},\"width\":{\"type\":\"value\",\"value\":0.18},\"bottom\":{\"type\":\"value\",\"value\":0.01},\"top\":{\"type\":\"field\",\"field\":\"shuffled GET\"},\"line_color\":{\"type\":\"value\",\"value\":\"#e84d60\"},\"line_alpha\":{\"type\":\"value\",\"value\":0.2},\"fill_color\":{\"type\":\"value\",\"value\":\"#e84d60\"},\"fill_alpha\":{\"type\":\"value\",\"value\":0.2},\"hatch_color\":{\"type\":\"value\",\"value\":\"#e84d60\"},\"hatch_alpha\":{\"type\":\"value\",\"value\":0.2}}}}}],\"toolbar\":{\"type\":\"object\",\"name\":\"Toolbar\",\"id\":\"p3616\",\"attributes\":{\"tools\":[{\"type\":\"object\",\"name\":\"PanTool\",\"id\":\"p3642\"},{\"type\":\"object\",\"name\":\"WheelZoomTool\",\"id\":\"p3643\"},{\"type\":\"object\",\"name\":\"BoxZoomTool\",\"id\":\"p3644\",\"attributes\":{\"overlay\":{\"type\":\"object\",\"name\":\"BoxAnnotation\",\"id\":\"p3645\",\"attributes\":{\"syncable\":false,\"level\":\"overlay\",\"visible\":false,\"left_units\":\"canvas\",\"right_units\":\"canvas\",\"bottom_units\":\"canvas\",\"top_units\":\"canvas\",\"line_color\":\"black\",\"line_alpha\":1.0,\"line_width\":2,\"line_dash\":[4,4],\"fill_color\":\"lightgrey\",\"fill_alpha\":0.5}}}},{\"type\":\"object\",\"name\":\"SaveTool\",\"id\":\"p3646\"},{\"type\":\"object\",\"name\":\"ResetTool\",\"id\":\"p3647\"},{\"type\":\"object\",\"name\":\"HelpTool\",\"id\":\"p3648\"}]}},\"toolbar_location\":null,\"left\":[{\"type\":\"object\",\"name\":\"LogAxis\",\"id\":\"p3635\",\"attributes\":{\"ticker\":{\"type\":\"object\",\"name\":\"LogTicker\",\"id\":\"p3638\",\"attributes\":{\"num_minor_ticks\":10,\"mantissas\":[1,5]}},\"formatter\":{\"type\":\"object\",\"name\":\"NumeralTickFormatter\",\"id\":\"p3691\",\"attributes\":{\"format\":\"0.0\"}},\"axis_label\":\"Throughput\",\"major_label_policy\":{\"type\":\"object\",\"name\":\"AllLabels\",\"id\":\"p3636\"}}}],\"below\":[{\"type\":\"object\",\"name\":\"CategoricalAxis\",\"id\":\"p3629\",\"attributes\":{\"ticker\":{\"type\":\"object\",\"name\":\"CategoricalTicker\",\"id\":\"p3632\"},\"formatter\":{\"type\":\"object\",\"name\":\"CategoricalTickFormatter\",\"id\":\"p3631\"},\"major_label_policy\":{\"type\":\"object\",\"name\":\"AllLabels\",\"id\":\"p3630\"}}}],\"center\":[{\"type\":\"object\",\"name\":\"Grid\",\"id\":\"p3634\",\"attributes\":{\"axis\":{\"id\":\"p3629\"}}},{\"type\":\"object\",\"name\":\"Grid\",\"id\":\"p3641\",\"attributes\":{\"dimension\":1,\"axis\":{\"id\":\"p3635\"}}},{\"type\":\"object\",\"name\":\"Legend\",\"id\":\"p3667\",\"attributes\":{\"label_text_font_size\":\"8pt\",\"items\":[{\"type\":\"object\",\"name\":\"LegendItem\",\"id\":\"p3668\",\"attributes\":{\"label\":{\"type\":\"value\",\"value\":\"PUT\"},\"renderers\":[{\"id\":\"p3664\"}]}},{\"type\":\"object\",\"name\":\"LegendItem\",\"id\":\"p3679\",\"attributes\":{\"label\":{\"type\":\"value\",\"value\":\"sequential GET\"},\"renderers\":[{\"id\":\"p3676\"}]}},{\"type\":\"object\",\"name\":\"LegendItem\",\"id\":\"p3690\",\"attributes\":{\"label\":{\"type\":\"value\",\"value\":\"shuffled GET\"},\"renderers\":[{\"id\":\"p3687\"}]}}]}}]}}],\"callbacks\":{\"type\":\"map\"}}};\n  const render_items = [{\"docid\":\"ef7e4790-20a8-448d-b91c-c020c01b8f80\",\"roots\":{\"p3611\":\"07ed60d4-3917-45b2-ad1a-bc050ea5883d\"},\"root_ids\":[\"p3611\"]}];\n  root.Bokeh.embed.embed_items_notebook(docs_json, render_items);\n  }\n  if (root.Bokeh !== undefined) {\n    embed_document(root);\n  } else {\n    let attempts = 0;\n    const timer = setInterval(function(root) {\n      if (root.Bokeh !== undefined) {\n        clearInterval(timer);\n        embed_document(root);\n      } else {\n        attempts++;\n        if (attempts > 100) {\n          clearInterval(timer);\n          console.log(\"Bokeh: ERROR: Unable to run BokehJS code because BokehJS library is missing\");\n        }\n      }\n    }, 10, root)\n  }\n})(window);",
      "application/vnd.bokehjs_exec.v0+json": ""
     },
     "metadata": {
      "application/vnd.bokehjs_exec.v0+json": {
       "id": "p3611"
      }
     },
     "output_type": "display_data"
    },
    {
     "name": "stderr",
     "output_type": "stream",
     "text": [
      "WARNING:bokeh.io.export:There were browser warnings and/or errors that may have affected your export\n",
      "WARNING:bokeh.io.export:file:///Users/effywn/projects/EECE5643_final/lsm/traces/bokehg9iykit1.html 283:1734 \"[bokeh]\" \"could not determine minimum data value for log axis, DataRange1d using value 0.018500000000000003\"\n"
     ]
    },
    {
     "data": {
      "text/plain": [
       "'/Users/effywn/projects/EECE5643_final/lsm/traces/synthetic_hyper_exponential_trace_throughput.png'"
      ]
     },
     "execution_count": 10,
     "metadata": {},
     "output_type": "execute_result"
    }
   ],
   "source": [
    "from bokeh.transform import dodge\n",
    "\n",
    "categories = ['LSM', 'LSM2']\n",
    "workloads = ['PUT', 'GET']\n",
    "\n",
    "data = {'LSM Implementation' : categories,\n",
    "        'PUT'   : [1.85 , 1.28],\n",
    "        'sequential GET'   : [1.82 , 0.047],\n",
    "        'shuffled GET':[1.80, 0.048]}\n",
    "\n",
    "source = ColumnDataSource(data=data)\n",
    "p = figure(x_range=categories, height=350, width=500, title=\"Throughput by implementations\", y_axis_type=\"log\", toolbar_location=None)\n",
    "\n",
    "p.vbar(x=dodge('LSM Implementation', -0.2, range=p.x_range), bottom=0.01, top='PUT', source=source,\n",
    "       width=0.18, color=\"#c9d9d3\", legend_label=\"PUT\")\n",
    "\n",
    "p.vbar(x=dodge('LSM Implementation',  0,  range=p.x_range), bottom=0.01, top='sequential GET', source=source,\n",
    "       width=0.18, color=\"#718dbf\", legend_label=\"sequential GET\")\n",
    "\n",
    "p.vbar(x=dodge('LSM Implementation',  0.2,  range=p.x_range), bottom=0.01, top='shuffled GET', source=source,\n",
    "       width=0.18, color=\"#e84d60\", legend_label=\"shuffled GET\")\n",
    "\n",
    "p.yaxis.axis_label = 'Throughput'\n",
    "p.y_range.start = 0\n",
    "p.yaxis[0].formatter = NumeralTickFormatter(format='0.0')\n",
    "p.legend.location = \"top_right\"\n",
    "p.legend.label_text_font_size = \"8pt\"\n",
    "p.x_range.range_padding = 0.0\n",
    "show(p)\n",
    "export_png(p, filename=\"synthetic_hyper_exponential_trace_throughput.png\")\n"
   ]
  },
  {
   "cell_type": "code",
   "execution_count": null,
   "metadata": {},
   "outputs": [],
   "source": []
  }
 ],
 "metadata": {
  "kernelspec": {
   "display_name": "Python 3",
   "language": "python",
   "name": "python3"
  },
  "language_info": {
   "codemirror_mode": {
    "name": "ipython",
    "version": 3
   },
   "file_extension": ".py",
   "mimetype": "text/x-python",
   "name": "python",
   "nbconvert_exporter": "python",
   "pygments_lexer": "ipython3",
   "version": "3.10.10"
  },
  "orig_nbformat": 4
 },
 "nbformat": 4,
 "nbformat_minor": 2
}
